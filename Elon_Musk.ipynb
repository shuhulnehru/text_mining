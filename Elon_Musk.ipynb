{
 "cells": [
  {
   "cell_type": "code",
   "execution_count": 1,
   "id": "ed4a82de",
   "metadata": {},
   "outputs": [],
   "source": [
    "import pandas as pd\n",
    "import nltk\n",
    "from textblob import TextBlob\n",
    "import matplotlib.pyplot as plt\n",
    "from wordcloud import WordCloud"
   ]
  },
  {
   "cell_type": "code",
   "execution_count": 2,
   "id": "1b2f21fd",
   "metadata": {},
   "outputs": [],
   "source": [
    "tweet = pd.read_csv('Elon_musk.csv')"
   ]
  },
  {
   "cell_type": "code",
   "execution_count": 3,
   "id": "06307ae3",
   "metadata": {},
   "outputs": [
    {
     "data": {
      "text/html": [
       "<div>\n",
       "<style scoped>\n",
       "    .dataframe tbody tr th:only-of-type {\n",
       "        vertical-align: middle;\n",
       "    }\n",
       "\n",
       "    .dataframe tbody tr th {\n",
       "        vertical-align: top;\n",
       "    }\n",
       "\n",
       "    .dataframe thead th {\n",
       "        text-align: right;\n",
       "    }\n",
       "</style>\n",
       "<table border=\"1\" class=\"dataframe\">\n",
       "  <thead>\n",
       "    <tr style=\"text-align: right;\">\n",
       "      <th></th>\n",
       "      <th>Unnamed: 0</th>\n",
       "      <th>Text</th>\n",
       "    </tr>\n",
       "  </thead>\n",
       "  <tbody>\n",
       "    <tr>\n",
       "      <th>0</th>\n",
       "      <td>1</td>\n",
       "      <td>@kunalb11 I�m an alien</td>\n",
       "    </tr>\n",
       "    <tr>\n",
       "      <th>1</th>\n",
       "      <td>2</td>\n",
       "      <td>@ID_AA_Carmack Ray tracing on Cyberpunk with H...</td>\n",
       "    </tr>\n",
       "    <tr>\n",
       "      <th>2</th>\n",
       "      <td>3</td>\n",
       "      <td>@joerogan @Spotify Great interview!</td>\n",
       "    </tr>\n",
       "    <tr>\n",
       "      <th>3</th>\n",
       "      <td>4</td>\n",
       "      <td>@gtera27 Doge is underestimated</td>\n",
       "    </tr>\n",
       "    <tr>\n",
       "      <th>4</th>\n",
       "      <td>5</td>\n",
       "      <td>@teslacn Congratulations Tesla China for amazi...</td>\n",
       "    </tr>\n",
       "  </tbody>\n",
       "</table>\n",
       "</div>"
      ],
      "text/plain": [
       "   Unnamed: 0                                               Text\n",
       "0           1                             @kunalb11 I�m an alien\n",
       "1           2  @ID_AA_Carmack Ray tracing on Cyberpunk with H...\n",
       "2           3                @joerogan @Spotify Great interview!\n",
       "3           4                    @gtera27 Doge is underestimated\n",
       "4           5  @teslacn Congratulations Tesla China for amazi..."
      ]
     },
     "execution_count": 3,
     "metadata": {},
     "output_type": "execute_result"
    }
   ],
   "source": [
    "tweet.head()"
   ]
  },
  {
   "cell_type": "code",
   "execution_count": 4,
   "id": "68eb75e5",
   "metadata": {},
   "outputs": [],
   "source": [
    "tweet=tweet.drop(columns=['Unnamed: 0'])"
   ]
  },
  {
   "cell_type": "code",
   "execution_count": 5,
   "id": "7c75345a",
   "metadata": {},
   "outputs": [
    {
     "data": {
      "text/html": [
       "<div>\n",
       "<style scoped>\n",
       "    .dataframe tbody tr th:only-of-type {\n",
       "        vertical-align: middle;\n",
       "    }\n",
       "\n",
       "    .dataframe tbody tr th {\n",
       "        vertical-align: top;\n",
       "    }\n",
       "\n",
       "    .dataframe thead th {\n",
       "        text-align: right;\n",
       "    }\n",
       "</style>\n",
       "<table border=\"1\" class=\"dataframe\">\n",
       "  <thead>\n",
       "    <tr style=\"text-align: right;\">\n",
       "      <th></th>\n",
       "      <th>Text</th>\n",
       "    </tr>\n",
       "  </thead>\n",
       "  <tbody>\n",
       "    <tr>\n",
       "      <th>0</th>\n",
       "      <td>@kunalb11 I�m an alien</td>\n",
       "    </tr>\n",
       "    <tr>\n",
       "      <th>1</th>\n",
       "      <td>@ID_AA_Carmack Ray tracing on Cyberpunk with H...</td>\n",
       "    </tr>\n",
       "    <tr>\n",
       "      <th>2</th>\n",
       "      <td>@joerogan @Spotify Great interview!</td>\n",
       "    </tr>\n",
       "    <tr>\n",
       "      <th>3</th>\n",
       "      <td>@gtera27 Doge is underestimated</td>\n",
       "    </tr>\n",
       "    <tr>\n",
       "      <th>4</th>\n",
       "      <td>@teslacn Congratulations Tesla China for amazi...</td>\n",
       "    </tr>\n",
       "  </tbody>\n",
       "</table>\n",
       "</div>"
      ],
      "text/plain": [
       "                                                Text\n",
       "0                             @kunalb11 I�m an alien\n",
       "1  @ID_AA_Carmack Ray tracing on Cyberpunk with H...\n",
       "2                @joerogan @Spotify Great interview!\n",
       "3                    @gtera27 Doge is underestimated\n",
       "4  @teslacn Congratulations Tesla China for amazi..."
      ]
     },
     "execution_count": 5,
     "metadata": {},
     "output_type": "execute_result"
    }
   ],
   "source": [
    "tweet.head()"
   ]
  },
  {
   "cell_type": "code",
   "execution_count": 6,
   "id": "eb3333c0",
   "metadata": {},
   "outputs": [],
   "source": [
    "import re  #cleaning text"
   ]
  },
  {
   "cell_type": "code",
   "execution_count": 7,
   "id": "dfb9391e",
   "metadata": {},
   "outputs": [],
   "source": [
    "def cleantxt(text):\n",
    "    text=re.sub('@[A-Za-z0-9]+','',text) #removes @\n",
    "    text=re.sub('#','',text) #removes the #symbol\n",
    "    text=re.sub('RT[\\s]+','',text) #removes RT\n",
    "    text=re.sub('https?:\\/\\/\\S+',\"\",text)#removes hyperlink\n",
    "    \n",
    "    return text"
   ]
  },
  {
   "cell_type": "code",
   "execution_count": 8,
   "id": "81767d07",
   "metadata": {},
   "outputs": [],
   "source": [
    "tweet['Text'] = tweet['Text'].apply(cleantxt)"
   ]
  },
  {
   "cell_type": "code",
   "execution_count": 9,
   "id": "af84093c",
   "metadata": {},
   "outputs": [
    {
     "data": {
      "text/html": [
       "<div>\n",
       "<style scoped>\n",
       "    .dataframe tbody tr th:only-of-type {\n",
       "        vertical-align: middle;\n",
       "    }\n",
       "\n",
       "    .dataframe tbody tr th {\n",
       "        vertical-align: top;\n",
       "    }\n",
       "\n",
       "    .dataframe thead th {\n",
       "        text-align: right;\n",
       "    }\n",
       "</style>\n",
       "<table border=\"1\" class=\"dataframe\">\n",
       "  <thead>\n",
       "    <tr style=\"text-align: right;\">\n",
       "      <th></th>\n",
       "      <th>Text</th>\n",
       "    </tr>\n",
       "  </thead>\n",
       "  <tbody>\n",
       "    <tr>\n",
       "      <th>0</th>\n",
       "      <td>I�m an alien</td>\n",
       "    </tr>\n",
       "    <tr>\n",
       "      <th>1</th>\n",
       "      <td>_AA_Carmack Ray tracing on Cyberpunk with HDR ...</td>\n",
       "    </tr>\n",
       "    <tr>\n",
       "      <th>2</th>\n",
       "      <td>Great interview!</td>\n",
       "    </tr>\n",
       "    <tr>\n",
       "      <th>3</th>\n",
       "      <td>Doge is underestimated</td>\n",
       "    </tr>\n",
       "    <tr>\n",
       "      <th>4</th>\n",
       "      <td>Congratulations Tesla China for amazing execu...</td>\n",
       "    </tr>\n",
       "    <tr>\n",
       "      <th>...</th>\n",
       "      <td>...</td>\n",
       "    </tr>\n",
       "    <tr>\n",
       "      <th>1994</th>\n",
       "      <td>True, it sounds so surreal, but the negative ...</td>\n",
       "    </tr>\n",
       "    <tr>\n",
       "      <th>1995</th>\n",
       "      <td>Make sure to read ur terms &amp;amp; conditions b...</td>\n",
       "    </tr>\n",
       "    <tr>\n",
       "      <th>1996</th>\n",
       "      <td>Samwise Gamgee</td>\n",
       "    </tr>\n",
       "    <tr>\n",
       "      <th>1997</th>\n",
       "      <td>Altho Dumb and Dumber is &lt;U+0001F525&gt;&lt;U+0001F...</td>\n",
       "    </tr>\n",
       "    <tr>\n",
       "      <th>1998</th>\n",
       "      <td>Progress update August 28</td>\n",
       "    </tr>\n",
       "  </tbody>\n",
       "</table>\n",
       "<p>1999 rows × 1 columns</p>\n",
       "</div>"
      ],
      "text/plain": [
       "                                                   Text\n",
       "0                                          I�m an alien\n",
       "1     _AA_Carmack Ray tracing on Cyberpunk with HDR ...\n",
       "2                                      Great interview!\n",
       "3                                Doge is underestimated\n",
       "4      Congratulations Tesla China for amazing execu...\n",
       "...                                                 ...\n",
       "1994   True, it sounds so surreal, but the negative ...\n",
       "1995   Make sure to read ur terms &amp; conditions b...\n",
       "1996                                     Samwise Gamgee\n",
       "1997   Altho Dumb and Dumber is <U+0001F525><U+0001F...\n",
       "1998                          Progress update August 28\n",
       "\n",
       "[1999 rows x 1 columns]"
      ]
     },
     "execution_count": 9,
     "metadata": {},
     "output_type": "execute_result"
    }
   ],
   "source": [
    "tweet"
   ]
  },
  {
   "cell_type": "code",
   "execution_count": 10,
   "id": "7f3c3e2b",
   "metadata": {},
   "outputs": [
    {
     "name": "stderr",
     "output_type": "stream",
     "text": [
      "[nltk_data] Downloading package stopwords to\n",
      "[nltk_data]     C:\\Users\\91882\\AppData\\Roaming\\nltk_data...\n",
      "[nltk_data]   Package stopwords is already up-to-date!\n",
      "[nltk_data] Downloading package wordnet to\n",
      "[nltk_data]     C:\\Users\\91882\\AppData\\Roaming\\nltk_data...\n",
      "[nltk_data]   Package wordnet is already up-to-date!\n"
     ]
    },
    {
     "data": {
      "text/plain": [
       "True"
      ]
     },
     "execution_count": 10,
     "metadata": {},
     "output_type": "execute_result"
    }
   ],
   "source": [
    "from nltk.stem import WordNetLemmatizer\n",
    "from nltk.corpus import stopwords\n",
    "nltk.download('stopwords')\n",
    "nltk.download('wordnet')"
   ]
  },
  {
   "cell_type": "code",
   "execution_count": 11,
   "id": "068617f7",
   "metadata": {},
   "outputs": [],
   "source": [
    "stop = stopwords.words('english')\n",
    "stop.append(['&amp'])\n",
    "lemmatizer = WordNetLemmatizer()"
   ]
  },
  {
   "cell_type": "code",
   "execution_count": 12,
   "id": "fc2f65c1",
   "metadata": {},
   "outputs": [],
   "source": [
    "tweet['Text']=tweet['Text'].apply(lambda x : ' '.join([ lemmatizer.lemmatize(word) for word in x.split() if word not in (stop)]))\n",
    "    "
   ]
  },
  {
   "cell_type": "code",
   "execution_count": 13,
   "id": "8948b738",
   "metadata": {},
   "outputs": [],
   "source": [
    "#create a function to get subjectivity.\n",
    "def getSubjectivity(text):\n",
    "    return TextBlob(text).sentiment.subjectivity\n",
    "\n",
    "# create a function to get polarity.\n",
    "def getPolarity(text):\n",
    "    return TextBlob(text).sentiment.polarity"
   ]
  },
  {
   "cell_type": "code",
   "execution_count": 14,
   "id": "eb0d6c4d",
   "metadata": {},
   "outputs": [],
   "source": [
    "tweet['Subjectivity'] = tweet['Text'].apply(getSubjectivity)\n",
    "tweet['Polarity']=tweet['Text'].apply(getPolarity)"
   ]
  },
  {
   "cell_type": "code",
   "execution_count": 15,
   "id": "e97aaef4",
   "metadata": {},
   "outputs": [
    {
     "data": {
      "text/html": [
       "<div>\n",
       "<style scoped>\n",
       "    .dataframe tbody tr th:only-of-type {\n",
       "        vertical-align: middle;\n",
       "    }\n",
       "\n",
       "    .dataframe tbody tr th {\n",
       "        vertical-align: top;\n",
       "    }\n",
       "\n",
       "    .dataframe thead th {\n",
       "        text-align: right;\n",
       "    }\n",
       "</style>\n",
       "<table border=\"1\" class=\"dataframe\">\n",
       "  <thead>\n",
       "    <tr style=\"text-align: right;\">\n",
       "      <th></th>\n",
       "      <th>Text</th>\n",
       "      <th>Subjectivity</th>\n",
       "      <th>Polarity</th>\n",
       "    </tr>\n",
       "  </thead>\n",
       "  <tbody>\n",
       "    <tr>\n",
       "      <th>0</th>\n",
       "      <td>I�m alien</td>\n",
       "      <td>0.750000</td>\n",
       "      <td>-0.250000</td>\n",
       "    </tr>\n",
       "    <tr>\n",
       "      <th>1</th>\n",
       "      <td>_AA_Carmack Ray tracing Cyberpunk HDR next-lev...</td>\n",
       "      <td>0.000000</td>\n",
       "      <td>0.000000</td>\n",
       "    </tr>\n",
       "    <tr>\n",
       "      <th>2</th>\n",
       "      <td>Great interview!</td>\n",
       "      <td>0.750000</td>\n",
       "      <td>1.000000</td>\n",
       "    </tr>\n",
       "    <tr>\n",
       "      <th>3</th>\n",
       "      <td>Doge underestimated</td>\n",
       "      <td>0.000000</td>\n",
       "      <td>0.000000</td>\n",
       "    </tr>\n",
       "    <tr>\n",
       "      <th>4</th>\n",
       "      <td>Congratulations Tesla China amazing execution ...</td>\n",
       "      <td>0.366667</td>\n",
       "      <td>0.345313</td>\n",
       "    </tr>\n",
       "    <tr>\n",
       "      <th>...</th>\n",
       "      <td>...</td>\n",
       "      <td>...</td>\n",
       "      <td>...</td>\n",
       "    </tr>\n",
       "    <tr>\n",
       "      <th>1994</th>\n",
       "      <td>True, sound surreal, negative propaganda still...</td>\n",
       "      <td>0.492857</td>\n",
       "      <td>0.152381</td>\n",
       "    </tr>\n",
       "    <tr>\n",
       "      <th>1995</th>\n",
       "      <td>Make sure read ur term &amp;amp; condition clickin...</td>\n",
       "      <td>0.888889</td>\n",
       "      <td>0.625000</td>\n",
       "    </tr>\n",
       "    <tr>\n",
       "      <th>1996</th>\n",
       "      <td>Samwise Gamgee</td>\n",
       "      <td>0.000000</td>\n",
       "      <td>0.000000</td>\n",
       "    </tr>\n",
       "    <tr>\n",
       "      <th>1997</th>\n",
       "      <td>Altho Dumb Dumber &lt;U+0001F525&gt;&lt;U+0001F525&gt;</td>\n",
       "      <td>0.500000</td>\n",
       "      <td>-0.375000</td>\n",
       "    </tr>\n",
       "    <tr>\n",
       "      <th>1998</th>\n",
       "      <td>Progress update August 28</td>\n",
       "      <td>0.000000</td>\n",
       "      <td>0.000000</td>\n",
       "    </tr>\n",
       "  </tbody>\n",
       "</table>\n",
       "<p>1999 rows × 3 columns</p>\n",
       "</div>"
      ],
      "text/plain": [
       "                                                   Text  Subjectivity  \\\n",
       "0                                             I�m alien      0.750000   \n",
       "1     _AA_Carmack Ray tracing Cyberpunk HDR next-lev...      0.000000   \n",
       "2                                      Great interview!      0.750000   \n",
       "3                                   Doge underestimated      0.000000   \n",
       "4     Congratulations Tesla China amazing execution ...      0.366667   \n",
       "...                                                 ...           ...   \n",
       "1994  True, sound surreal, negative propaganda still...      0.492857   \n",
       "1995  Make sure read ur term &amp; condition clickin...      0.888889   \n",
       "1996                                     Samwise Gamgee      0.000000   \n",
       "1997         Altho Dumb Dumber <U+0001F525><U+0001F525>      0.500000   \n",
       "1998                          Progress update August 28      0.000000   \n",
       "\n",
       "      Polarity  \n",
       "0    -0.250000  \n",
       "1     0.000000  \n",
       "2     1.000000  \n",
       "3     0.000000  \n",
       "4     0.345313  \n",
       "...        ...  \n",
       "1994  0.152381  \n",
       "1995  0.625000  \n",
       "1996  0.000000  \n",
       "1997 -0.375000  \n",
       "1998  0.000000  \n",
       "\n",
       "[1999 rows x 3 columns]"
      ]
     },
     "execution_count": 15,
     "metadata": {},
     "output_type": "execute_result"
    }
   ],
   "source": [
    "tweet"
   ]
  },
  {
   "cell_type": "code",
   "execution_count": 16,
   "id": "34e4118c",
   "metadata": {},
   "outputs": [
    {
     "data": {
      "image/png": "[encoded data removed]",
      "text/plain": [
       "<Figure size 432x288 with 1 Axes>"
      ]
     },
     "metadata": {
      "needs_background": "light"
     },
     "output_type": "display_data"
    }
   ],
   "source": [
    "#Word Cloud\n",
    "words = ' '.join([ txts for txts in tweet['Text']])\n",
    "wordcloud = WordCloud().generate(words)\n",
    "\n",
    "plt.imshow(wordcloud)\n",
    "plt.show()"
   ]
  },
  {
   "cell_type": "code",
   "execution_count": 17,
   "id": "c95a92dd",
   "metadata": {},
   "outputs": [],
   "source": [
    "#create a function to compute negative, neutral and positive analysis\n",
    "def getAnalysis(score):\n",
    "    if score < 0:\n",
    "        return 'Negative'\n",
    "    elif score ==0:\n",
    "        return 'Neutral'\n",
    "    else:\n",
    "        return 'Positive'\n",
    "    \n",
    "tweet['Analysis'] = tweet['Polarity'].apply(getAnalysis)"
   ]
  },
  {
   "cell_type": "code",
   "execution_count": 18,
   "id": "789145e1",
   "metadata": {},
   "outputs": [
    {
     "data": {
      "text/html": [
       "<div>\n",
       "<style scoped>\n",
       "    .dataframe tbody tr th:only-of-type {\n",
       "        vertical-align: middle;\n",
       "    }\n",
       "\n",
       "    .dataframe tbody tr th {\n",
       "        vertical-align: top;\n",
       "    }\n",
       "\n",
       "    .dataframe thead th {\n",
       "        text-align: right;\n",
       "    }\n",
       "</style>\n",
       "<table border=\"1\" class=\"dataframe\">\n",
       "  <thead>\n",
       "    <tr style=\"text-align: right;\">\n",
       "      <th></th>\n",
       "      <th>Text</th>\n",
       "      <th>Subjectivity</th>\n",
       "      <th>Polarity</th>\n",
       "      <th>Analysis</th>\n",
       "    </tr>\n",
       "  </thead>\n",
       "  <tbody>\n",
       "    <tr>\n",
       "      <th>0</th>\n",
       "      <td>I�m alien</td>\n",
       "      <td>0.750000</td>\n",
       "      <td>-0.250000</td>\n",
       "      <td>Negative</td>\n",
       "    </tr>\n",
       "    <tr>\n",
       "      <th>1</th>\n",
       "      <td>_AA_Carmack Ray tracing Cyberpunk HDR next-lev...</td>\n",
       "      <td>0.000000</td>\n",
       "      <td>0.000000</td>\n",
       "      <td>Neutral</td>\n",
       "    </tr>\n",
       "    <tr>\n",
       "      <th>2</th>\n",
       "      <td>Great interview!</td>\n",
       "      <td>0.750000</td>\n",
       "      <td>1.000000</td>\n",
       "      <td>Positive</td>\n",
       "    </tr>\n",
       "    <tr>\n",
       "      <th>3</th>\n",
       "      <td>Doge underestimated</td>\n",
       "      <td>0.000000</td>\n",
       "      <td>0.000000</td>\n",
       "      <td>Neutral</td>\n",
       "    </tr>\n",
       "    <tr>\n",
       "      <th>4</th>\n",
       "      <td>Congratulations Tesla China amazing execution ...</td>\n",
       "      <td>0.366667</td>\n",
       "      <td>0.345313</td>\n",
       "      <td>Positive</td>\n",
       "    </tr>\n",
       "    <tr>\n",
       "      <th>...</th>\n",
       "      <td>...</td>\n",
       "      <td>...</td>\n",
       "      <td>...</td>\n",
       "      <td>...</td>\n",
       "    </tr>\n",
       "    <tr>\n",
       "      <th>1994</th>\n",
       "      <td>True, sound surreal, negative propaganda still...</td>\n",
       "      <td>0.492857</td>\n",
       "      <td>0.152381</td>\n",
       "      <td>Positive</td>\n",
       "    </tr>\n",
       "    <tr>\n",
       "      <th>1995</th>\n",
       "      <td>Make sure read ur term &amp;amp; condition clickin...</td>\n",
       "      <td>0.888889</td>\n",
       "      <td>0.625000</td>\n",
       "      <td>Positive</td>\n",
       "    </tr>\n",
       "    <tr>\n",
       "      <th>1996</th>\n",
       "      <td>Samwise Gamgee</td>\n",
       "      <td>0.000000</td>\n",
       "      <td>0.000000</td>\n",
       "      <td>Neutral</td>\n",
       "    </tr>\n",
       "    <tr>\n",
       "      <th>1997</th>\n",
       "      <td>Altho Dumb Dumber &lt;U+0001F525&gt;&lt;U+0001F525&gt;</td>\n",
       "      <td>0.500000</td>\n",
       "      <td>-0.375000</td>\n",
       "      <td>Negative</td>\n",
       "    </tr>\n",
       "    <tr>\n",
       "      <th>1998</th>\n",
       "      <td>Progress update August 28</td>\n",
       "      <td>0.000000</td>\n",
       "      <td>0.000000</td>\n",
       "      <td>Neutral</td>\n",
       "    </tr>\n",
       "  </tbody>\n",
       "</table>\n",
       "<p>1999 rows × 4 columns</p>\n",
       "</div>"
      ],
      "text/plain": [
       "                                                   Text  Subjectivity  \\\n",
       "0                                             I�m alien      0.750000   \n",
       "1     _AA_Carmack Ray tracing Cyberpunk HDR next-lev...      0.000000   \n",
       "2                                      Great interview!      0.750000   \n",
       "3                                   Doge underestimated      0.000000   \n",
       "4     Congratulations Tesla China amazing execution ...      0.366667   \n",
       "...                                                 ...           ...   \n",
       "1994  True, sound surreal, negative propaganda still...      0.492857   \n",
       "1995  Make sure read ur term &amp; condition clickin...      0.888889   \n",
       "1996                                     Samwise Gamgee      0.000000   \n",
       "1997         Altho Dumb Dumber <U+0001F525><U+0001F525>      0.500000   \n",
       "1998                          Progress update August 28      0.000000   \n",
       "\n",
       "      Polarity  Analysis  \n",
       "0    -0.250000  Negative  \n",
       "1     0.000000   Neutral  \n",
       "2     1.000000  Positive  \n",
       "3     0.000000   Neutral  \n",
       "4     0.345313  Positive  \n",
       "...        ...       ...  \n",
       "1994  0.152381  Positive  \n",
       "1995  0.625000  Positive  \n",
       "1996  0.000000   Neutral  \n",
       "1997 -0.375000  Negative  \n",
       "1998  0.000000   Neutral  \n",
       "\n",
       "[1999 rows x 4 columns]"
      ]
     },
     "execution_count": 18,
     "metadata": {},
     "output_type": "execute_result"
    }
   ],
   "source": [
    "tweet"
   ]
  },
  {
   "cell_type": "code",
   "execution_count": 19,
   "id": "0699a034",
   "metadata": {},
   "outputs": [],
   "source": [
    "# Print all of the positive tweets\n",
    "sort_df = tweet.sort_values(by=['Polarity'],ascending=False)"
   ]
  },
  {
   "cell_type": "code",
   "execution_count": 20,
   "id": "39c617c4",
   "metadata": {},
   "outputs": [
    {
     "data": {
      "text/html": [
       "<div>\n",
       "<style scoped>\n",
       "    .dataframe tbody tr th:only-of-type {\n",
       "        vertical-align: middle;\n",
       "    }\n",
       "\n",
       "    .dataframe tbody tr th {\n",
       "        vertical-align: top;\n",
       "    }\n",
       "\n",
       "    .dataframe thead th {\n",
       "        text-align: right;\n",
       "    }\n",
       "</style>\n",
       "<table border=\"1\" class=\"dataframe\">\n",
       "  <thead>\n",
       "    <tr style=\"text-align: right;\">\n",
       "      <th></th>\n",
       "      <th>Text</th>\n",
       "      <th>Subjectivity</th>\n",
       "      <th>Polarity</th>\n",
       "      <th>Analysis</th>\n",
       "    </tr>\n",
       "  </thead>\n",
       "  <tbody>\n",
       "    <tr>\n",
       "      <th>410</th>\n",
       "      <td>Merry Christmas &amp;amp; happy holidays! &lt;U+0001F...</td>\n",
       "      <td>1.000000</td>\n",
       "      <td>1.000000</td>\n",
       "      <td>Positive</td>\n",
       "    </tr>\n",
       "    <tr>\n",
       "      <th>900</th>\n",
       "      <td>Tesla team done great work!</td>\n",
       "      <td>0.750000</td>\n",
       "      <td>1.000000</td>\n",
       "      <td>Positive</td>\n",
       "    </tr>\n",
       "    <tr>\n",
       "      <th>340</th>\n",
       "      <td>&lt;U+0001F3A9&gt; The Greatest Gatsby &lt;U+0001F3A9&gt;</td>\n",
       "      <td>1.000000</td>\n",
       "      <td>1.000000</td>\n",
       "      <td>Positive</td>\n",
       "    </tr>\n",
       "    <tr>\n",
       "      <th>1082</th>\n",
       "      <td>Great photo!</td>\n",
       "      <td>0.750000</td>\n",
       "      <td>1.000000</td>\n",
       "      <td>Positive</td>\n",
       "    </tr>\n",
       "    <tr>\n",
       "      <th>1857</th>\n",
       "      <td>Great shot!</td>\n",
       "      <td>0.750000</td>\n",
       "      <td>1.000000</td>\n",
       "      <td>Positive</td>\n",
       "    </tr>\n",
       "    <tr>\n",
       "      <th>...</th>\n",
       "      <td>...</td>\n",
       "      <td>...</td>\n",
       "      <td>...</td>\n",
       "      <td>...</td>\n",
       "    </tr>\n",
       "    <tr>\n",
       "      <th>303</th>\n",
       "      <td>_feed His sick beat</td>\n",
       "      <td>0.857143</td>\n",
       "      <td>-0.714286</td>\n",
       "      <td>Negative</td>\n",
       "    </tr>\n",
       "    <tr>\n",
       "      <th>1533</th>\n",
       "      <td>The �early investor� part Tesla wrong. That b ...</td>\n",
       "      <td>0.950000</td>\n",
       "      <td>-0.750000</td>\n",
       "      <td>Negative</td>\n",
       "    </tr>\n",
       "    <tr>\n",
       "      <th>1660</th>\n",
       "      <td>: �We going go moon, going base moon, going se...</td>\n",
       "      <td>1.000000</td>\n",
       "      <td>-0.800000</td>\n",
       "      <td>Negative</td>\n",
       "    </tr>\n",
       "    <tr>\n",
       "      <th>1422</th>\n",
       "      <td>Boring Co tunnel Vegas month operational</td>\n",
       "      <td>1.000000</td>\n",
       "      <td>-1.000000</td>\n",
       "      <td>Negative</td>\n",
       "    </tr>\n",
       "    <tr>\n",
       "      <th>1265</th>\n",
       "      <td>It insane</td>\n",
       "      <td>1.000000</td>\n",
       "      <td>-1.000000</td>\n",
       "      <td>Negative</td>\n",
       "    </tr>\n",
       "  </tbody>\n",
       "</table>\n",
       "<p>1999 rows × 4 columns</p>\n",
       "</div>"
      ],
      "text/plain": [
       "                                                   Text  Subjectivity  \\\n",
       "410   Merry Christmas &amp; happy holidays! <U+0001F...      1.000000   \n",
       "900                         Tesla team done great work!      0.750000   \n",
       "340       <U+0001F3A9> The Greatest Gatsby <U+0001F3A9>      1.000000   \n",
       "1082                                       Great photo!      0.750000   \n",
       "1857                                        Great shot!      0.750000   \n",
       "...                                                 ...           ...   \n",
       "303                                 _feed His sick beat      0.857143   \n",
       "1533  The �early investor� part Tesla wrong. That b ...      0.950000   \n",
       "1660  : �We going go moon, going base moon, going se...      1.000000   \n",
       "1422           Boring Co tunnel Vegas month operational      1.000000   \n",
       "1265                                          It insane      1.000000   \n",
       "\n",
       "      Polarity  Analysis  \n",
       "410   1.000000  Positive  \n",
       "900   1.000000  Positive  \n",
       "340   1.000000  Positive  \n",
       "1082  1.000000  Positive  \n",
       "1857  1.000000  Positive  \n",
       "...        ...       ...  \n",
       "303  -0.714286  Negative  \n",
       "1533 -0.750000  Negative  \n",
       "1660 -0.800000  Negative  \n",
       "1422 -1.000000  Negative  \n",
       "1265 -1.000000  Negative  \n",
       "\n",
       "[1999 rows x 4 columns]"
      ]
     },
     "execution_count": 20,
     "metadata": {},
     "output_type": "execute_result"
    }
   ],
   "source": [
    "sort_df"
   ]
  },
  {
   "cell_type": "code",
   "execution_count": 21,
   "id": "c10c66f5",
   "metadata": {},
   "outputs": [
    {
     "data": {
      "image/png": "[encoded data removed]",
      "text/plain": [
       "<Figure size 576x432 with 1 Axes>"
      ]
     },
     "metadata": {
      "needs_background": "light"
     },
     "output_type": "display_data"
    }
   ],
   "source": [
    "#Plot the polarity and subjectivity\n",
    "plt.figure(figsize=(8,6))\n",
    "for i in range(0,tweet.shape[0]):\n",
    "    plt.scatter(tweet['Polarity'][i],tweet['Subjectivity'][i],color=\"Blue\")\n",
    "    plt.title('Sentiment Analysis')\n",
    "    plt.xlabel('Polarity')\n",
    "    plt.ylabel('Subjectivity')"
   ]
  },
  {
   "cell_type": "code",
   "execution_count": 23,
   "id": "ce0875ee",
   "metadata": {},
   "outputs": [
    {
     "data": {
      "text/plain": [
       "2                                        Great interview!\n",
       "4       Congratulations Tesla China amazing execution ...\n",
       "5                                      Happy New Year Ox!\n",
       "7                                        _ Haha thanks :)\n",
       "9                         The entertaining outcome likely\n",
       "                              ...                        \n",
       "1986                          Best use term �Full Stack�?\n",
       "1987    For sure. This great &amp; terrifying. Everyth...\n",
       "1991    No easy way answer tweet, helping dire brain i...\n",
       "1994    True, sound surreal, negative propaganda still...\n",
       "1995    Make sure read ur term &amp; condition clickin...\n",
       "Name: Text, Length: 860, dtype: object"
      ]
     },
     "execution_count": 23,
     "metadata": {},
     "output_type": "execute_result"
    }
   ],
   "source": [
    "#getting percentage of positive tweets & negative tweets\n",
    "ptweets = tweet[tweet.Analysis == 'Positive']\n",
    "ptweets = ptweets['Text']\n",
    "ptweets"
   ]
  },
  {
   "cell_type": "code",
   "execution_count": 25,
   "id": "152f58f3",
   "metadata": {},
   "outputs": [
    {
     "data": {
      "text/plain": [
       "43.0"
      ]
     },
     "execution_count": 25,
     "metadata": {},
     "output_type": "execute_result"
    }
   ],
   "source": [
    "round((ptweets.shape[0]/tweet.shape[0])*100,1)"
   ]
  },
  {
   "cell_type": "code",
   "execution_count": 27,
   "id": "c8edeaea",
   "metadata": {},
   "outputs": [
    {
     "data": {
      "text/plain": [
       "0                                               I�m alien\n",
       "6       Frodo underdoge, All thought would fail, Himse...\n",
       "25      _ Starlink staggeringly difficult technical &a...\n",
       "26      _ SpaceX need pas deep chasm negative cash flo...\n",
       "32      Everyone Tesla receives stock. My comp stock/o...\n",
       "                              ...                        \n",
       "1943    _feed The strength &amp; perseverance people T...\n",
       "1949    Reusability essential. A rocket single use abs...\n",
       "1958    We reduced pricing Model Y LR dual motor &amp;...\n",
       "1989                               Sorry, hopefully soon!\n",
       "1997           Altho Dumb Dumber <U+0001F525><U+0001F525>\n",
       "Name: Text, Length: 195, dtype: object"
      ]
     },
     "execution_count": 27,
     "metadata": {},
     "output_type": "execute_result"
    }
   ],
   "source": [
    "ntweets = tweet[tweet.Analysis=='Negative']\n",
    "ntweets = ntweets['Text']\n",
    "ntweets"
   ]
  },
  {
   "cell_type": "code",
   "execution_count": 28,
   "id": "c62a5584",
   "metadata": {},
   "outputs": [
    {
     "data": {
      "text/plain": [
       "9.8"
      ]
     },
     "execution_count": 28,
     "metadata": {},
     "output_type": "execute_result"
    }
   ],
   "source": [
    "round((ntweets.shape[0]/tweet.shape[0])*100,1)"
   ]
  },
  {
   "cell_type": "code",
   "execution_count": 30,
   "id": "6fe02f73",
   "metadata": {},
   "outputs": [
    {
     "data": {
      "text/plain": [
       "Text(0.5, 1.0, 'Sentiment Analysis')"
      ]
     },
     "execution_count": 30,
     "metadata": {},
     "output_type": "execute_result"
    },
    {
     "data": {
      "image/png": "[encoded data removed]",
      "text/plain": [
       "<Figure size 432x288 with 1 Axes>"
      ]
     },
     "metadata": {
      "needs_background": "light"
     },
     "output_type": "display_data"
    }
   ],
   "source": [
    "tweet['Analysis'].value_counts().plot(kind='bar')\n",
    "plt.show\n",
    "plt.title('Sentiment Analysis')"
   ]
  },
  {
   "cell_type": "code",
   "execution_count": null,
   "id": "e7367eca",
   "metadata": {},
   "outputs": [],
   "source": []
  }
 ],
 "metadata": {
  "kernelspec": {
   "display_name": "Python 3",
   "language": "python",
   "name": "python3"
  },
  "language_info": {
   "codemirror_mode": {
    "name": "ipython",
    "version": 3
   },
   "file_extension": ".py",
   "mimetype": "text/x-python",
   "name": "python",
   "nbconvert_exporter": "python",
   "pygments_lexer": "ipython3",
   "version": "3.8.8"
  }
 },
 "nbformat": 4,
 "nbformat_minor": 5
}
