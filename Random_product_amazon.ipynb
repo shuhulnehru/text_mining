{
 "cells": [
  {
   "cell_type": "code",
   "execution_count": 2,
   "id": "d22088f7",
   "metadata": {},
   "outputs": [
    {
     "name": "stdout",
     "output_type": "stream",
     "text": [
      "Collecting autoscraper\n",
      "  Downloading autoscraper-1.1.12-py3-none-any.whl (10 kB)\n",
      "Requirement already satisfied: requests in c:\\users\\91882\\anaconda3\\lib\\site-packages (from autoscraper) (2.25.1)\n",
      "Requirement already satisfied: lxml in c:\\users\\91882\\anaconda3\\lib\\site-packages (from autoscraper) (4.6.3)\n",
      "Collecting bs4\n",
      "  Downloading bs4-0.0.1.tar.gz (1.1 kB)\n",
      "Requirement already satisfied: beautifulsoup4 in c:\\users\\91882\\anaconda3\\lib\\site-packages (from bs4->autoscraper) (4.9.3)\n",
      "Requirement already satisfied: soupsieve>1.2 in c:\\users\\91882\\anaconda3\\lib\\site-packages (from beautifulsoup4->bs4->autoscraper) (2.2.1)\n",
      "Requirement already satisfied: urllib3<1.27,>=1.21.1 in c:\\users\\91882\\anaconda3\\lib\\site-packages (from requests->autoscraper) (1.26.4)\n",
      "Requirement already satisfied: certifi>=2017.4.17 in c:\\users\\91882\\anaconda3\\lib\\site-packages (from requests->autoscraper) (2020.12.5)\n",
      "Requirement already satisfied: idna<3,>=2.5 in c:\\users\\91882\\anaconda3\\lib\\site-packages (from requests->autoscraper) (2.10)\n",
      "Requirement already satisfied: chardet<5,>=3.0.2 in c:\\users\\91882\\anaconda3\\lib\\site-packages (from requests->autoscraper) (4.0.0)\n",
      "Building wheels for collected packages: bs4\n",
      "  Building wheel for bs4 (setup.py): started\n",
      "  Building wheel for bs4 (setup.py): finished with status 'done'\n",
      "  Created wheel for bs4: filename=bs4-0.0.1-py3-none-any.whl size=1273 sha256=b5d8cb1b1076beeeb356df2c5b980a1cec1d3e291330d717b78b32ffab048e23\n",
      "  Stored in directory: c:\\users\\91882\\appdata\\local\\pip\\cache\\wheels\\75\\78\\21\\68b124549c9bdc94f822c02fb9aa3578a669843f9767776bca\n",
      "Successfully built bs4\n",
      "Installing collected packages: bs4, autoscraper\n",
      "Successfully installed autoscraper-1.1.12 bs4-0.0.1\n"
     ]
    }
   ],
   "source": [
    "!pip install autoscraper"
   ]
  },
  {
   "cell_type": "code",
   "execution_count": 36,
   "id": "60bb6029",
   "metadata": {},
   "outputs": [],
   "source": [
    "from autoscraper import AutoScraper\n",
    "from textblob import TextBlob\n",
    "from wordcloud import WordCloud\n",
    "import matplotlib.pyplot as plt"
   ]
  },
  {
   "cell_type": "code",
   "execution_count": 10,
   "id": "93796834",
   "metadata": {},
   "outputs": [],
   "source": [
    "amazon_url = \"https://www.amazon.in/Rockerz-510-Wireless-Bluetooth-Headphones/product-reviews/B06Y5LK5QJ/ref=cm_cr_dp_d_show_all_btm?ie=UTF8&reviewerType=all_reviews\"\n",
    "\n",
    "wanted_list = [\"It's really a value for money product. But in the sale of Amazon it's looking costly compared to other as Flipcart. In great Indian festival its lowest price is ₹1,849/- but in Flipcart big billion days its lowest price is only ₹1,499/- . It's the difference.\"]"
   ]
  },
  {
   "cell_type": "code",
   "execution_count": 11,
   "id": "8b23e152",
   "metadata": {},
   "outputs": [],
   "source": [
    "scraper = AutoScraper()"
   ]
  },
  {
   "cell_type": "code",
   "execution_count": 12,
   "id": "51b12d86",
   "metadata": {
    "scrolled": true
   },
   "outputs": [
    {
     "name": "stdout",
     "output_type": "stream",
     "text": [
      "[\"Its one of the best headphones for this price( i bought it for 2k). It has super powerful bass and clear sound quality. It can be used either using Bluetooth or it can be wired. It is compatible for Android, ios and for PC or laptops. This headphone is for serious music lovers who love extra bass and it is also good for watching movies or for gaming. It has many buttons so i don't have to take my phone at all. Finally i would suggest people to buy this rather than buying boAt rockerz 400.\", \"So allow me write a very technical and accurate review about the amazing Boat 510.Amazon was as usual on time and excellent with the delivery of the product.Now the thing about the headphones isThey work extremely fine while on Bluetooth.I have tried with my pc and some mobiles the sound quality is uncompromised even during the low volume. The bass is very noticeable.As soon ass you plug in the jack in your device, the bass is lost/reduced. The headphones will start sounding flat. With only the highs and mids, no lows. I think Boat should work on this particular aspect.Otherwise the headphones are amazing.Must buy for daily use.But if you're a person who's producing music or working with sounds much more professionally I would recommend to try try Boat 600 or higher.Thankyou.\", \"It's really a value for money product. But in the sale of Amazon it's looking costly compared to other as Flipcart. In great Indian festival its lowest price is ₹1,849/- but in Flipcart big billion days its lowest price is only ₹1,499/- . It's the difference.\", \"This is a 30 day review from my side so if you are really planning to buy this product please read this review entirely so that you are clear about your choice.....So I ordered this product and recieved it the other day...superfast delivery....then I unboxed the product...the packing can be rated 4 stars...the headphones look damn good and are very much comfy..sound quality is also good but a little lower than the best...and battery life is amazing...I charged it once fully and I was able to use it for 2 weeks straight at probably 2 hours a day...battery life is best...sound quality is good... comfortable and durable...best product in this range....and don't forget BASS quality is the best...note this is 30 day review so it is very accurate...\", \"about a year after purchase first the battery stopped charging so bluetooth feature couldn't be used, and soon after that the ear protective pads fell offwaste of money\", \"Made it China! Warranty is just on paper,they don't seem to work in reality.Sound quality is kinda ok but deteriorates after 6 months of usage and that causes headache.The synthetic layer of the cushion isn't of good quality.Bluetooth range is good and battery works fine.Spend a little more and go for good brands.\", \"Well if you're looking for a decent gaming headphones that this product is not the one you're looking for.so straight to pros and cons:Pros-1.  these have a premium look.2. cushioning is good.3. Bass is good.4. Battery is also good(upto 7-8 hrs).5- decent headphones in this price range (i got these for 1500 rs).cons-1. these are not flexible.2. bass is good but you can't listen to melody songs, these headphones adds bass to them too. you'll get bass in almost every song so you have to use equalizers to avoid that.3. this is the most annoying problem i found in this product ,actually this is the problem that comes in almost every bt headphones(so basically if you are looking for gaming headphones don't go for BT headphonesreason:- it uses dual profile system in 1st profile you can use stereo with good sound but you can't use mic and in 2nd profile you can use mic but sound quality changes to mono and you'll have an awful experience with that.)\", \"First of all, the after sale service is very very poor, I've an issue with the headset,i filed a complaint on their website, the sales guy took the headset & i didn't get any information from Boat rockerz about my headset & still i don't know where it is.So, please be careful with thisAnd rest sound quality is good, battery life is poor & major issue in Bluetooth button.\", 'I got it for 1300 after many discounts....Seriously, these are the best if you want in below 2k range...People who say these are bad might have gotten a bad piece which they can exchange within 10 days with replacement guarantee and the other category people who are fans of Good Treble can stay away from these, these are for people who love that extra bass... These are the ones who are giving negative reviews to this piece of beauty..😁I say go ahead and order this piece of music weapon if you are a true fan of bass..', \"Now I don't know much about bass and treble and such stuff but these headphones are pretty good. I can charge then for 2 hours and they work for 6-7 hours which is pretty good. The sound quality is decent and the range is great. I mainly use it in the gym and the ear buds gets a bit sweaty which I find uncomfortable but you can easily wipe the sweat off. They're pretty stable when working out and don't shake very easily or fall off.\"]\n"
     ]
    }
   ],
   "source": [
    "result = scraper.build(amazon_url,wanted_list)\n",
    "print(result)"
   ]
  },
  {
   "cell_type": "code",
   "execution_count": 13,
   "id": "c9d04441",
   "metadata": {},
   "outputs": [],
   "source": [
    "import pandas as pd"
   ]
  },
  {
   "cell_type": "code",
   "execution_count": 14,
   "id": "4fb4863d",
   "metadata": {},
   "outputs": [],
   "source": [
    "review_headphone = pd.DataFrame(result,columns=['reviews'])"
   ]
  },
  {
   "cell_type": "code",
   "execution_count": 15,
   "id": "eba673fe",
   "metadata": {},
   "outputs": [
    {
     "data": {
      "text/html": [
       "<div>\n",
       "<style scoped>\n",
       "    .dataframe tbody tr th:only-of-type {\n",
       "        vertical-align: middle;\n",
       "    }\n",
       "\n",
       "    .dataframe tbody tr th {\n",
       "        vertical-align: top;\n",
       "    }\n",
       "\n",
       "    .dataframe thead th {\n",
       "        text-align: right;\n",
       "    }\n",
       "</style>\n",
       "<table border=\"1\" class=\"dataframe\">\n",
       "  <thead>\n",
       "    <tr style=\"text-align: right;\">\n",
       "      <th></th>\n",
       "      <th>reviews</th>\n",
       "    </tr>\n",
       "  </thead>\n",
       "  <tbody>\n",
       "    <tr>\n",
       "      <th>0</th>\n",
       "      <td>Its one of the best headphones for this price(...</td>\n",
       "    </tr>\n",
       "    <tr>\n",
       "      <th>1</th>\n",
       "      <td>So allow me write a very technical and accurat...</td>\n",
       "    </tr>\n",
       "    <tr>\n",
       "      <th>2</th>\n",
       "      <td>It's really a value for money product. But in ...</td>\n",
       "    </tr>\n",
       "    <tr>\n",
       "      <th>3</th>\n",
       "      <td>This is a 30 day review from my side so if you...</td>\n",
       "    </tr>\n",
       "    <tr>\n",
       "      <th>4</th>\n",
       "      <td>about a year after purchase first the battery ...</td>\n",
       "    </tr>\n",
       "    <tr>\n",
       "      <th>5</th>\n",
       "      <td>Made it China! Warranty is just on paper,they ...</td>\n",
       "    </tr>\n",
       "    <tr>\n",
       "      <th>6</th>\n",
       "      <td>Well if you're looking for a decent gaming hea...</td>\n",
       "    </tr>\n",
       "    <tr>\n",
       "      <th>7</th>\n",
       "      <td>First of all, the after sale service is very v...</td>\n",
       "    </tr>\n",
       "    <tr>\n",
       "      <th>8</th>\n",
       "      <td>I got it for 1300 after many discounts....Seri...</td>\n",
       "    </tr>\n",
       "    <tr>\n",
       "      <th>9</th>\n",
       "      <td>Now I don't know much about bass and treble an...</td>\n",
       "    </tr>\n",
       "  </tbody>\n",
       "</table>\n",
       "</div>"
      ],
      "text/plain": [
       "                                             reviews\n",
       "0  Its one of the best headphones for this price(...\n",
       "1  So allow me write a very technical and accurat...\n",
       "2  It's really a value for money product. But in ...\n",
       "3  This is a 30 day review from my side so if you...\n",
       "4  about a year after purchase first the battery ...\n",
       "5  Made it China! Warranty is just on paper,they ...\n",
       "6  Well if you're looking for a decent gaming hea...\n",
       "7  First of all, the after sale service is very v...\n",
       "8  I got it for 1300 after many discounts....Seri...\n",
       "9  Now I don't know much about bass and treble an..."
      ]
     },
     "execution_count": 15,
     "metadata": {},
     "output_type": "execute_result"
    }
   ],
   "source": [
    "review_headphone"
   ]
  },
  {
   "cell_type": "code",
   "execution_count": 16,
   "id": "c7e2da19",
   "metadata": {},
   "outputs": [],
   "source": [
    "import re"
   ]
  },
  {
   "cell_type": "code",
   "execution_count": 20,
   "id": "c57240ec",
   "metadata": {},
   "outputs": [],
   "source": [
    "def cleantxt(text):\n",
    "    text = re.sub('@[A-Za-z0-9]+','',text)\n",
    "    text = text.lower()\n",
    "    return text"
   ]
  },
  {
   "cell_type": "code",
   "execution_count": 21,
   "id": "c9245e65",
   "metadata": {},
   "outputs": [],
   "source": [
    "review_headphone['reviews'] = review_headphone['reviews'].apply(cleantxt)"
   ]
  },
  {
   "cell_type": "code",
   "execution_count": 22,
   "id": "fd8f8bc4",
   "metadata": {},
   "outputs": [
    {
     "data": {
      "text/html": [
       "<div>\n",
       "<style scoped>\n",
       "    .dataframe tbody tr th:only-of-type {\n",
       "        vertical-align: middle;\n",
       "    }\n",
       "\n",
       "    .dataframe tbody tr th {\n",
       "        vertical-align: top;\n",
       "    }\n",
       "\n",
       "    .dataframe thead th {\n",
       "        text-align: right;\n",
       "    }\n",
       "</style>\n",
       "<table border=\"1\" class=\"dataframe\">\n",
       "  <thead>\n",
       "    <tr style=\"text-align: right;\">\n",
       "      <th></th>\n",
       "      <th>reviews</th>\n",
       "    </tr>\n",
       "  </thead>\n",
       "  <tbody>\n",
       "    <tr>\n",
       "      <th>0</th>\n",
       "      <td>its one of the best headphones for this price(...</td>\n",
       "    </tr>\n",
       "    <tr>\n",
       "      <th>1</th>\n",
       "      <td>so allow me write a very technical and accurat...</td>\n",
       "    </tr>\n",
       "    <tr>\n",
       "      <th>2</th>\n",
       "      <td>it's really a value for money product. but in ...</td>\n",
       "    </tr>\n",
       "    <tr>\n",
       "      <th>3</th>\n",
       "      <td>this is a 30 day review from my side so if you...</td>\n",
       "    </tr>\n",
       "    <tr>\n",
       "      <th>4</th>\n",
       "      <td>about a year after purchase first the battery ...</td>\n",
       "    </tr>\n",
       "    <tr>\n",
       "      <th>5</th>\n",
       "      <td>made it china! warranty is just on paper,they ...</td>\n",
       "    </tr>\n",
       "    <tr>\n",
       "      <th>6</th>\n",
       "      <td>well if you're looking for a decent gaming hea...</td>\n",
       "    </tr>\n",
       "    <tr>\n",
       "      <th>7</th>\n",
       "      <td>first of all, the after sale service is very v...</td>\n",
       "    </tr>\n",
       "    <tr>\n",
       "      <th>8</th>\n",
       "      <td>i got it for 1300 after many discounts....seri...</td>\n",
       "    </tr>\n",
       "    <tr>\n",
       "      <th>9</th>\n",
       "      <td>now i don't know much about bass and treble an...</td>\n",
       "    </tr>\n",
       "  </tbody>\n",
       "</table>\n",
       "</div>"
      ],
      "text/plain": [
       "                                             reviews\n",
       "0  its one of the best headphones for this price(...\n",
       "1  so allow me write a very technical and accurat...\n",
       "2  it's really a value for money product. but in ...\n",
       "3  this is a 30 day review from my side so if you...\n",
       "4  about a year after purchase first the battery ...\n",
       "5  made it china! warranty is just on paper,they ...\n",
       "6  well if you're looking for a decent gaming hea...\n",
       "7  first of all, the after sale service is very v...\n",
       "8  i got it for 1300 after many discounts....seri...\n",
       "9  now i don't know much about bass and treble an..."
      ]
     },
     "execution_count": 22,
     "metadata": {},
     "output_type": "execute_result"
    }
   ],
   "source": [
    "review_headphone"
   ]
  },
  {
   "cell_type": "code",
   "execution_count": 23,
   "id": "a6ca4c1b",
   "metadata": {},
   "outputs": [
    {
     "data": {
      "text/plain": [
       "(10, 1)"
      ]
     },
     "execution_count": 23,
     "metadata": {},
     "output_type": "execute_result"
    }
   ],
   "source": [
    "review_headphone.shape"
   ]
  },
  {
   "cell_type": "code",
   "execution_count": 24,
   "id": "0bb1f475",
   "metadata": {},
   "outputs": [],
   "source": [
    "from nltk.stem import WordNetLemmatizer"
   ]
  },
  {
   "cell_type": "code",
   "execution_count": 25,
   "id": "4314ae4c",
   "metadata": {},
   "outputs": [],
   "source": [
    "from nltk.corpus import stopwords"
   ]
  },
  {
   "cell_type": "code",
   "execution_count": 26,
   "id": "f18260de",
   "metadata": {},
   "outputs": [],
   "source": [
    "stop = stopwords.words('english')\n",
    "lemma = WordNetLemmatizer()"
   ]
  },
  {
   "cell_type": "code",
   "execution_count": 28,
   "id": "6e666cc1",
   "metadata": {},
   "outputs": [],
   "source": [
    "review_headphone['reviews'] = review_headphone['reviews'].apply(lambda x: \" \".join([lemma.lemmatize(word) for word in x.split() if word not in (stop)]))"
   ]
  },
  {
   "cell_type": "code",
   "execution_count": 29,
   "id": "7724a768",
   "metadata": {
    "scrolled": true
   },
   "outputs": [
    {
     "data": {
      "text/html": [
       "<div>\n",
       "<style scoped>\n",
       "    .dataframe tbody tr th:only-of-type {\n",
       "        vertical-align: middle;\n",
       "    }\n",
       "\n",
       "    .dataframe tbody tr th {\n",
       "        vertical-align: top;\n",
       "    }\n",
       "\n",
       "    .dataframe thead th {\n",
       "        text-align: right;\n",
       "    }\n",
       "</style>\n",
       "<table border=\"1\" class=\"dataframe\">\n",
       "  <thead>\n",
       "    <tr style=\"text-align: right;\">\n",
       "      <th></th>\n",
       "      <th>reviews</th>\n",
       "    </tr>\n",
       "  </thead>\n",
       "  <tbody>\n",
       "    <tr>\n",
       "      <th>0</th>\n",
       "      <td>one best headphone price( bought 2k). super po...</td>\n",
       "    </tr>\n",
       "    <tr>\n",
       "      <th>1</th>\n",
       "      <td>allow write technical accurate review amazing ...</td>\n",
       "    </tr>\n",
       "    <tr>\n",
       "      <th>2</th>\n",
       "      <td>really value money product. sale amazon lookin...</td>\n",
       "    </tr>\n",
       "    <tr>\n",
       "      <th>3</th>\n",
       "      <td>30 day review side really planning buy product...</td>\n",
       "    </tr>\n",
       "    <tr>\n",
       "      <th>4</th>\n",
       "      <td>year purchase first battery stopped charging b...</td>\n",
       "    </tr>\n",
       "    <tr>\n",
       "      <th>5</th>\n",
       "      <td>made china! warranty paper,they seem work real...</td>\n",
       "    </tr>\n",
       "    <tr>\n",
       "      <th>6</th>\n",
       "      <td>well looking decent gaming headphone product o...</td>\n",
       "    </tr>\n",
       "    <tr>\n",
       "      <th>7</th>\n",
       "      <td>first all, sale service poor, i've issue heads...</td>\n",
       "    </tr>\n",
       "    <tr>\n",
       "      <th>8</th>\n",
       "      <td>got 1300 many discounts....seriously, best wan...</td>\n",
       "    </tr>\n",
       "    <tr>\n",
       "      <th>9</th>\n",
       "      <td>know much bass treble stuff headphone pretty g...</td>\n",
       "    </tr>\n",
       "  </tbody>\n",
       "</table>\n",
       "</div>"
      ],
      "text/plain": [
       "                                             reviews\n",
       "0  one best headphone price( bought 2k). super po...\n",
       "1  allow write technical accurate review amazing ...\n",
       "2  really value money product. sale amazon lookin...\n",
       "3  30 day review side really planning buy product...\n",
       "4  year purchase first battery stopped charging b...\n",
       "5  made china! warranty paper,they seem work real...\n",
       "6  well looking decent gaming headphone product o...\n",
       "7  first all, sale service poor, i've issue heads...\n",
       "8  got 1300 many discounts....seriously, best wan...\n",
       "9  know much bass treble stuff headphone pretty g..."
      ]
     },
     "execution_count": 29,
     "metadata": {},
     "output_type": "execute_result"
    }
   ],
   "source": [
    "review_headphone"
   ]
  },
  {
   "cell_type": "code",
   "execution_count": 31,
   "id": "c6701a03",
   "metadata": {},
   "outputs": [],
   "source": [
    "def Subjectivity(text):\n",
    "    return TextBlob(text).sentiment.subjectivity\n",
    "def polarity(text):\n",
    "    return TextBlob(text).sentiment.polarity"
   ]
  },
  {
   "cell_type": "code",
   "execution_count": 33,
   "id": "2d4d8012",
   "metadata": {},
   "outputs": [],
   "source": [
    "review_headphone['subjectivity'] = review_headphone['reviews'].apply(Subjectivity)\n",
    "review_headphone['polarity']=review_headphone['reviews'].apply(polarity)"
   ]
  },
  {
   "cell_type": "code",
   "execution_count": 34,
   "id": "cf4bcb54",
   "metadata": {},
   "outputs": [
    {
     "data": {
      "text/html": [
       "<div>\n",
       "<style scoped>\n",
       "    .dataframe tbody tr th:only-of-type {\n",
       "        vertical-align: middle;\n",
       "    }\n",
       "\n",
       "    .dataframe tbody tr th {\n",
       "        vertical-align: top;\n",
       "    }\n",
       "\n",
       "    .dataframe thead th {\n",
       "        text-align: right;\n",
       "    }\n",
       "</style>\n",
       "<table border=\"1\" class=\"dataframe\">\n",
       "  <thead>\n",
       "    <tr style=\"text-align: right;\">\n",
       "      <th></th>\n",
       "      <th>reviews</th>\n",
       "      <th>subjectivity</th>\n",
       "      <th>polarity</th>\n",
       "    </tr>\n",
       "  </thead>\n",
       "  <tbody>\n",
       "    <tr>\n",
       "      <th>0</th>\n",
       "      <td>one best headphone price( bought 2k). super po...</td>\n",
       "      <td>0.555128</td>\n",
       "      <td>0.246154</td>\n",
       "    </tr>\n",
       "    <tr>\n",
       "      <th>1</th>\n",
       "      <td>allow write technical accurate review amazing ...</td>\n",
       "      <td>0.411354</td>\n",
       "      <td>0.191771</td>\n",
       "    </tr>\n",
       "    <tr>\n",
       "      <th>2</th>\n",
       "      <td>really value money product. sale amazon lookin...</td>\n",
       "      <td>0.350000</td>\n",
       "      <td>0.333333</td>\n",
       "    </tr>\n",
       "    <tr>\n",
       "      <th>3</th>\n",
       "      <td>30 day review side really planning buy product...</td>\n",
       "      <td>0.503472</td>\n",
       "      <td>0.313542</td>\n",
       "    </tr>\n",
       "    <tr>\n",
       "      <th>4</th>\n",
       "      <td>year purchase first battery stopped charging b...</td>\n",
       "      <td>0.333333</td>\n",
       "      <td>0.250000</td>\n",
       "    </tr>\n",
       "    <tr>\n",
       "      <th>5</th>\n",
       "      <td>made china! warranty paper,they seem work real...</td>\n",
       "      <td>0.560000</td>\n",
       "      <td>0.482500</td>\n",
       "    </tr>\n",
       "    <tr>\n",
       "      <th>6</th>\n",
       "      <td>well looking decent gaming headphone product o...</td>\n",
       "      <td>0.515556</td>\n",
       "      <td>0.022222</td>\n",
       "    </tr>\n",
       "    <tr>\n",
       "      <th>7</th>\n",
       "      <td>first all, sale service poor, i've issue heads...</td>\n",
       "      <td>0.529167</td>\n",
       "      <td>0.026562</td>\n",
       "    </tr>\n",
       "    <tr>\n",
       "      <th>8</th>\n",
       "      <td>got 1300 many discounts....seriously, best wan...</td>\n",
       "      <td>0.498485</td>\n",
       "      <td>0.095455</td>\n",
       "    </tr>\n",
       "    <tr>\n",
       "      <th>9</th>\n",
       "      <td>know much bass treble stuff headphone pretty g...</td>\n",
       "      <td>0.732051</td>\n",
       "      <td>0.300000</td>\n",
       "    </tr>\n",
       "  </tbody>\n",
       "</table>\n",
       "</div>"
      ],
      "text/plain": [
       "                                             reviews  subjectivity  polarity\n",
       "0  one best headphone price( bought 2k). super po...      0.555128  0.246154\n",
       "1  allow write technical accurate review amazing ...      0.411354  0.191771\n",
       "2  really value money product. sale amazon lookin...      0.350000  0.333333\n",
       "3  30 day review side really planning buy product...      0.503472  0.313542\n",
       "4  year purchase first battery stopped charging b...      0.333333  0.250000\n",
       "5  made china! warranty paper,they seem work real...      0.560000  0.482500\n",
       "6  well looking decent gaming headphone product o...      0.515556  0.022222\n",
       "7  first all, sale service poor, i've issue heads...      0.529167  0.026562\n",
       "8  got 1300 many discounts....seriously, best wan...      0.498485  0.095455\n",
       "9  know much bass treble stuff headphone pretty g...      0.732051  0.300000"
      ]
     },
     "execution_count": 34,
     "metadata": {},
     "output_type": "execute_result"
    }
   ],
   "source": [
    "review_headphone"
   ]
  },
  {
   "cell_type": "code",
   "execution_count": 37,
   "id": "4370aaa7",
   "metadata": {},
   "outputs": [
    {
     "data": {
      "text/plain": [
       "<function matplotlib.pyplot.show(close=None, block=None)>"
      ]
     },
     "execution_count": 37,
     "metadata": {},
     "output_type": "execute_result"
    },
    {
     "data": {
      "image/png": "[encoded data removed]",
      "text/plain": [
       "<Figure size 432x288 with 1 Axes>"
      ]
     },
     "metadata": {
      "needs_background": "light"
     },
     "output_type": "display_data"
    }
   ],
   "source": [
    "words = ''.join([review for review in review_headphone['reviews']])\n",
    "wordcloud = WordCloud().generate(words)\n",
    "plt.imshow(wordcloud)\n",
    "plt.show"
   ]
  },
  {
   "cell_type": "code",
   "execution_count": 38,
   "id": "a8ba39c9",
   "metadata": {},
   "outputs": [],
   "source": [
    "def getAnalysis(score):\n",
    "    if score<0:\n",
    "        return 'negative'\n",
    "    elif score==0:\n",
    "        return 'neutral'\n",
    "    else:\n",
    "        return 'positive'"
   ]
  },
  {
   "cell_type": "code",
   "execution_count": 39,
   "id": "b3c6a607",
   "metadata": {},
   "outputs": [],
   "source": [
    "review_headphone['analysis']=review_headphone['polarity'].apply(getAnalysis)"
   ]
  },
  {
   "cell_type": "code",
   "execution_count": 40,
   "id": "11d7a876",
   "metadata": {},
   "outputs": [
    {
     "data": {
      "text/html": [
       "<div>\n",
       "<style scoped>\n",
       "    .dataframe tbody tr th:only-of-type {\n",
       "        vertical-align: middle;\n",
       "    }\n",
       "\n",
       "    .dataframe tbody tr th {\n",
       "        vertical-align: top;\n",
       "    }\n",
       "\n",
       "    .dataframe thead th {\n",
       "        text-align: right;\n",
       "    }\n",
       "</style>\n",
       "<table border=\"1\" class=\"dataframe\">\n",
       "  <thead>\n",
       "    <tr style=\"text-align: right;\">\n",
       "      <th></th>\n",
       "      <th>reviews</th>\n",
       "      <th>subjectivity</th>\n",
       "      <th>polarity</th>\n",
       "      <th>analysis</th>\n",
       "    </tr>\n",
       "  </thead>\n",
       "  <tbody>\n",
       "    <tr>\n",
       "      <th>0</th>\n",
       "      <td>one best headphone price( bought 2k). super po...</td>\n",
       "      <td>0.555128</td>\n",
       "      <td>0.246154</td>\n",
       "      <td>positive</td>\n",
       "    </tr>\n",
       "    <tr>\n",
       "      <th>1</th>\n",
       "      <td>allow write technical accurate review amazing ...</td>\n",
       "      <td>0.411354</td>\n",
       "      <td>0.191771</td>\n",
       "      <td>positive</td>\n",
       "    </tr>\n",
       "    <tr>\n",
       "      <th>2</th>\n",
       "      <td>really value money product. sale amazon lookin...</td>\n",
       "      <td>0.350000</td>\n",
       "      <td>0.333333</td>\n",
       "      <td>positive</td>\n",
       "    </tr>\n",
       "    <tr>\n",
       "      <th>3</th>\n",
       "      <td>30 day review side really planning buy product...</td>\n",
       "      <td>0.503472</td>\n",
       "      <td>0.313542</td>\n",
       "      <td>positive</td>\n",
       "    </tr>\n",
       "    <tr>\n",
       "      <th>4</th>\n",
       "      <td>year purchase first battery stopped charging b...</td>\n",
       "      <td>0.333333</td>\n",
       "      <td>0.250000</td>\n",
       "      <td>positive</td>\n",
       "    </tr>\n",
       "    <tr>\n",
       "      <th>5</th>\n",
       "      <td>made china! warranty paper,they seem work real...</td>\n",
       "      <td>0.560000</td>\n",
       "      <td>0.482500</td>\n",
       "      <td>positive</td>\n",
       "    </tr>\n",
       "    <tr>\n",
       "      <th>6</th>\n",
       "      <td>well looking decent gaming headphone product o...</td>\n",
       "      <td>0.515556</td>\n",
       "      <td>0.022222</td>\n",
       "      <td>positive</td>\n",
       "    </tr>\n",
       "    <tr>\n",
       "      <th>7</th>\n",
       "      <td>first all, sale service poor, i've issue heads...</td>\n",
       "      <td>0.529167</td>\n",
       "      <td>0.026562</td>\n",
       "      <td>positive</td>\n",
       "    </tr>\n",
       "    <tr>\n",
       "      <th>8</th>\n",
       "      <td>got 1300 many discounts....seriously, best wan...</td>\n",
       "      <td>0.498485</td>\n",
       "      <td>0.095455</td>\n",
       "      <td>positive</td>\n",
       "    </tr>\n",
       "    <tr>\n",
       "      <th>9</th>\n",
       "      <td>know much bass treble stuff headphone pretty g...</td>\n",
       "      <td>0.732051</td>\n",
       "      <td>0.300000</td>\n",
       "      <td>positive</td>\n",
       "    </tr>\n",
       "  </tbody>\n",
       "</table>\n",
       "</div>"
      ],
      "text/plain": [
       "                                             reviews  subjectivity  polarity  \\\n",
       "0  one best headphone price( bought 2k). super po...      0.555128  0.246154   \n",
       "1  allow write technical accurate review amazing ...      0.411354  0.191771   \n",
       "2  really value money product. sale amazon lookin...      0.350000  0.333333   \n",
       "3  30 day review side really planning buy product...      0.503472  0.313542   \n",
       "4  year purchase first battery stopped charging b...      0.333333  0.250000   \n",
       "5  made china! warranty paper,they seem work real...      0.560000  0.482500   \n",
       "6  well looking decent gaming headphone product o...      0.515556  0.022222   \n",
       "7  first all, sale service poor, i've issue heads...      0.529167  0.026562   \n",
       "8  got 1300 many discounts....seriously, best wan...      0.498485  0.095455   \n",
       "9  know much bass treble stuff headphone pretty g...      0.732051  0.300000   \n",
       "\n",
       "   analysis  \n",
       "0  positive  \n",
       "1  positive  \n",
       "2  positive  \n",
       "3  positive  \n",
       "4  positive  \n",
       "5  positive  \n",
       "6  positive  \n",
       "7  positive  \n",
       "8  positive  \n",
       "9  positive  "
      ]
     },
     "execution_count": 40,
     "metadata": {},
     "output_type": "execute_result"
    }
   ],
   "source": [
    "review_headphone"
   ]
  },
  {
   "cell_type": "code",
   "execution_count": 45,
   "id": "fad30139",
   "metadata": {},
   "outputs": [
    {
     "data": {
      "image/png": "[encoded data removed]",
      "text/plain": [
       "<Figure size 576x432 with 1 Axes>"
      ]
     },
     "metadata": {
      "needs_background": "light"
     },
     "output_type": "display_data"
    }
   ],
   "source": [
    "plt.figure(figsize=(8,6))\n",
    "for i in range(0,review_headphone.shape[0]):\n",
    "    plt.scatter(review_headphone['polarity'][i],review_headphone['subjectivity'][i],color=\"Blue\")\n",
    "    plt.title('Sentiment Analysis')\n",
    "    plt.xlabel('Polarity')\n",
    "    plt.ylabel('Subjectivity')"
   ]
  },
  {
   "cell_type": "code",
   "execution_count": 46,
   "id": "c5cd08ac",
   "metadata": {},
   "outputs": [
    {
     "data": {
      "text/plain": [
       "Text(0.5, 1.0, 'Sentiment Analysis')"
      ]
     },
     "execution_count": 46,
     "metadata": {},
     "output_type": "execute_result"
    },
    {
     "data": {
      "image/png": "[encoded data removed]",
      "text/plain": [
       "<Figure size 432x288 with 1 Axes>"
      ]
     },
     "metadata": {
      "needs_background": "light"
     },
     "output_type": "display_data"
    }
   ],
   "source": [
    "review_headphone['analysis'].value_counts().plot(kind='bar')\n",
    "plt.show\n",
    "plt.title('Sentiment Analysis')"
   ]
  },
  {
   "cell_type": "code",
   "execution_count": null,
   "id": "82f77177",
   "metadata": {},
   "outputs": [],
   "source": []
  }
 ],
 "metadata": {
  "kernelspec": {
   "display_name": "Python 3",
   "language": "python",
   "name": "python3"
  },
  "language_info": {
   "codemirror_mode": {
    "name": "ipython",
    "version": 3
   },
   "file_extension": ".py",
   "mimetype": "text/x-python",
   "name": "python",
   "nbconvert_exporter": "python",
   "pygments_lexer": "ipython3",
   "version": "3.8.8"
  }
 },
 "nbformat": 4,
 "nbformat_minor": 5
}
